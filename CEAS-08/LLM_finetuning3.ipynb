{
 "cells": [
  {
   "cell_type": "code",
   "execution_count": 1,
   "id": "444eec1c",
   "metadata": {},
   "outputs": [
    {
     "name": "stderr",
     "output_type": "stream",
     "text": [
      "C:\\Users\\user\\AppData\\Local\\Packages\\PythonSoftwareFoundation.Python.3.12_qbz5n2kfra8p0\\LocalCache\\local-packages\\Python312\\site-packages\\tqdm\\auto.py:21: TqdmWarning: IProgress not found. Please update jupyter and ipywidgets. See https://ipywidgets.readthedocs.io/en/stable/user_install.html\n",
      "  from .autonotebook import tqdm as notebook_tqdm\n"
     ]
    },
    {
     "name": "stdout",
     "output_type": "stream",
     "text": [
      "WARNING:tensorflow:From C:\\Users\\user\\AppData\\Local\\Packages\\PythonSoftwareFoundation.Python.3.12_qbz5n2kfra8p0\\LocalCache\\local-packages\\Python312\\site-packages\\tf_keras\\src\\losses.py:2976: The name tf.losses.sparse_softmax_cross_entropy is deprecated. Please use tf.compat.v1.losses.sparse_softmax_cross_entropy instead.\n",
      "\n"
     ]
    }
   ],
   "source": [
    "import pandas as pd\n",
    "import torch\n",
    "import numpy as np\n",
    "from transformers import RobertaTokenizer, RobertaForSequenceClassification, Trainer, TrainingArguments,DistilBertTokenizer,DistilBertForSequenceClassification,AutoModelForSequenceClassification,AutoTokenizer\n",
    "from sklearn.model_selection import train_test_split\n",
    "from sklearn.metrics import accuracy_score, precision_score, recall_score, f1_score, confusion_matrix,precision_recall_fscore_support\n"
   ]
  },
  {
   "cell_type": "code",
   "execution_count": null,
   "id": "a1a74ec1",
   "metadata": {},
   "outputs": [],
   "source": [
    "# Load and clean the preprocessed spam dataset from CSV\n",
    "df = pd.read_csv('/Users/user/Documents/Spam_Detection/Data/new_data_clear.csv')"
   ]
  },
  {
   "cell_type": "code",
   "execution_count": null,
   "id": "6559df38",
   "metadata": {},
   "outputs": [
    {
     "name": "stderr",
     "output_type": "stream",
     "text": [
      "C:\\Users\\user\\AppData\\Local\\Temp\\ipykernel_30100\\775452318.py:5: DeprecationWarning: DataFrameGroupBy.apply operated on the grouping columns. This behavior is deprecated, and in a future version of pandas the grouping columns will be excluded from the operation. Either pass `include_groups=False` to exclude the groupings or explicitly select the grouping columns after groupby to silence this warning.\n",
      "  .apply(lambda x: x.sample(int(np.rint(N*len(x)/len(df)))))\n"
     ]
    }
   ],
   "source": [
    "# Stratified random sampling to maintain class distribution proportions\n",
    "N = 4000  # Total number of desired samples\n",
    "\n",
    "Stratified_Sample = (\n",
    "    df.groupby('label', group_keys=False)\n",
    "    .apply(lambda x: x.sample(int(np.rint(N * len(x) / len(df)))))\n",
    "    .sample(frac=1)  # Shuffle the rows after sampling\n",
    "    .reset_index(drop=True)\n",
    ")"
   ]
  },
  {
   "cell_type": "code",
   "execution_count": null,
   "id": "f02169c8",
   "metadata": {},
   "outputs": [
    {
     "name": "stdout",
     "output_type": "stream",
     "text": [
      "label\n",
      "1    0.564457\n",
      "0    0.435543\n",
      "Name: proportion, dtype: float64\n",
      "label\n",
      "1    0.5645\n",
      "0    0.4355\n",
      "Name: proportion, dtype: float64\n"
     ]
    }
   ],
   "source": [
    "# Verify class proportions before and after sampling to ensure stratification\n",
    "print(df['label'].value_counts(normalize=True))\n",
    "print(Stratified_Sample['label'].value_counts(normalize=True))"
   ]
  },
  {
   "cell_type": "code",
   "execution_count": null,
   "id": "65935dd4",
   "metadata": {},
   "outputs": [],
   "source": [
    "# Use the stratified sample as the main dataset for subsequent steps\n",
    "df = Stratified_Sample"
   ]
  },
  {
   "cell_type": "code",
   "execution_count": null,
   "id": "2c1b44e4",
   "metadata": {},
   "outputs": [],
   "source": [
    "# Combine several columns related to the email/message into a single string column ('model_input') \n",
    "# that serves as unified, structured text input for language models (LLMs).\n",
    "# Each feature (Sender, Receiver, Date, Subject, Body, URLs) is labeled and separated by ' | ' \n",
    "# to maintain interpretability and context within the concatenated string.\n",
    "# All columns are converted to string to prevent type errors and ensure smooth concatenation.\n",
    "\n",
    "df['model_input'] = (\n",
    "    \"Sender: \" + df['sender'].astype(str) +\n",
    "    \" | Receiver: \" + df['receiver'].astype(str) +\n",
    "    \" | Date: \" + df['date'].astype(str) +\n",
    "    \" | Subject: \" + df['subject'].astype(str) +\n",
    "    \" | Body: \" + df['body'].astype(str) +\n",
    "    \" | URLs: \" + df['urls'].astype(str)\n",
    ")"
   ]
  },
  {
   "cell_type": "code",
   "execution_count": null,
   "id": "a013366c",
   "metadata": {},
   "outputs": [],
   "source": [
    "features = df['model_input'].tolist()\n",
    "target = df['label'].tolist()"
   ]
  },
  {
   "cell_type": "code",
   "execution_count": null,
   "id": "5d36b6d4",
   "metadata": {},
   "outputs": [],
   "source": [
    "\n",
    "# Split data into training and test sets, 80/20\n",
    "X_train, X_test, y_train, y_test = train_test_split(features, target, test_size=0.2, random_state=0)\n",
    "\n",
    "# Initialize tokenizer from Hugging Face pre-trained checkpoint\n",
    "tokenizer = DistilBertTokenizer.from_pretrained('mariagrandury/distilbert-base-uncased-finetuned-sms-spam-detection')\n",
    "\n",
    "# Tokenize the texts for transformer input (with padding/truncation as needed)\n",
    "train_encodings = tokenizer(X_train, truncation=True, padding=True)\n",
    "test_encodings = tokenizer(X_test, truncation=True, padding=True)"
   ]
  },
  {
   "cell_type": "code",
   "execution_count": null,
   "id": "8cefd1dc",
   "metadata": {},
   "outputs": [],
   "source": [
    "# Define a custom PyTorch Dataset for tokenized text and label pairs\n",
    "class SpamDataset(torch.utils.data.Dataset):\n",
    "    def __init__(self, encodings, labels):\n",
    "        self.encodings = encodings\n",
    "        self.labels = labels\n",
    "    def __getitem__(self, idx):\n",
    "        item = {key: torch.tensor(val[idx]) for key, val in self.encodings.items()}\n",
    "        item['labels'] = torch.tensor(self.labels[idx])\n",
    "        return item\n",
    "    def __len__(self):\n",
    "        return len(self.labels)\n",
    "\n",
    "# Instantiate datasets for training and testing\n",
    "train_dataset = SpamDataset(train_encodings, y_train)\n",
    "test_dataset = SpamDataset(test_encodings, y_test)"
   ]
  },
  {
   "cell_type": "markdown",
   "id": "dc9cd4be",
   "metadata": {},
   "source": [
    "We wrap our tokenized data as a PyTorch Dataset to make it compatible with the Hugging Face Trainer API."
   ]
  },
  {
   "cell_type": "code",
   "execution_count": null,
   "id": "ff42c5d0",
   "metadata": {},
   "outputs": [],
   "source": [
    "# Load a DistilBERT model pre-trained and fine-tuned for SMS spam detection\n",
    "model = DistilBertForSequenceClassification.from_pretrained('mariagrandury/distilbert-base-uncased-finetuned-sms-spam-detection', num_labels=2)"
   ]
  },
  {
   "cell_type": "markdown",
   "id": "87823b0c",
   "metadata": {},
   "source": [
    "Here, we use a model checkpoint already adapted to SMS spam, allowing either further fine-tuning or immediate evaluation.\n"
   ]
  },
  {
   "cell_type": "code",
   "execution_count": null,
   "id": "5685fff5",
   "metadata": {},
   "outputs": [],
   "source": [
    "# Helper function to compute key evaluation metrics for binary classification\n",
    "def compute_metrics(eval_pred):\n",
    "    logits, labels = eval_pred\n",
    "    predictions = torch.argmax(torch.tensor(logits), dim=-1)\n",
    "    precision, recall, f1, _ = precision_recall_fscore_support(labels, predictions, average='binary')\n",
    "    acc = accuracy_score(labels, predictions)\n",
    "    return {'accuracy': acc, 'precision': precision, 'recall': recall, 'f1': f1}\n"
   ]
  },
  {
   "cell_type": "markdown",
   "id": "fafd4d3b",
   "metadata": {},
   "source": [
    "The Trainer API makes use of compute_metrics for evaluation after each epoch, using accuracy, precision, recall and F1-score.\n"
   ]
  },
  {
   "cell_type": "code",
   "execution_count": null,
   "id": "cfd71de2",
   "metadata": {},
   "outputs": [],
   "source": [
    "# Set up Hugging Face TrainingArguments for the Trainer API\n",
    "training_args = TrainingArguments(\n",
    "    output_dir='./results',            # Directory to save model artifacts\n",
    "    num_train_epochs=3,                # Number of training epochs\n",
    "    per_device_train_batch_size=16,    # Batch size during training\n",
    "    per_device_eval_batch_size=32,     # Batch size during evaluation\n",
    "    eval_strategy='epoch',             # Evaluation strategy per epoch\n",
    "    save_strategy='epoch',             # Save checkpoints per epoch\n",
    "    logging_dir='./logs',              # Directory for logs\n",
    "    logging_steps=50,                  # Log every 50 steps\n",
    "    load_best_model_at_end=True,       # Keep the best model after training\n",
    "    metric_for_best_model='f1',        # Metric to select the best model checkpoint\n",
    "    greater_is_better=True,            # Is higher better for the best metric\n",
    "    seed=42                            # Reproducibility\n",
    ")\n"
   ]
  },
  {
   "cell_type": "markdown",
   "id": "b9fca3ce",
   "metadata": {},
   "source": [
    "These arguments control the model saving, logging, and evaluation strategy for our training loop.\n"
   ]
  },
  {
   "cell_type": "code",
   "execution_count": null,
   "id": "6d7a3c78",
   "metadata": {},
   "outputs": [],
   "source": [
    "# Initialize the Hugging Face Trainer\n",
    "trainer = Trainer(\n",
    "    model=model,\n",
    "    args=training_args,\n",
    "    train_dataset=train_dataset,\n",
    "    eval_dataset=test_dataset,\n",
    "    compute_metrics=compute_metrics\n",
    ")\n"
   ]
  },
  {
   "cell_type": "markdown",
   "id": "c9ef5717",
   "metadata": {},
   "source": [
    "Trainer abstracts the training loop, handles evaluation, logging, and model checkpointing automatically.\n"
   ]
  },
  {
   "cell_type": "code",
   "execution_count": 14,
   "id": "d9a3e526",
   "metadata": {},
   "outputs": [
    {
     "data": {
      "text/html": [
       "\n",
       "    <div>\n",
       "      \n",
       "      <progress value='600' max='600' style='width:300px; height:20px; vertical-align: middle;'></progress>\n",
       "      [600/600 1:13:20, Epoch 3/3]\n",
       "    </div>\n",
       "    <table border=\"1\" class=\"dataframe\">\n",
       "  <thead>\n",
       " <tr style=\"text-align: left;\">\n",
       "      <th>Epoch</th>\n",
       "      <th>Training Loss</th>\n",
       "      <th>Validation Loss</th>\n",
       "      <th>Accuracy</th>\n",
       "      <th>Precision</th>\n",
       "      <th>Recall</th>\n",
       "      <th>F1</th>\n",
       "    </tr>\n",
       "  </thead>\n",
       "  <tbody>\n",
       "    <tr>\n",
       "      <td>1</td>\n",
       "      <td>0.072400</td>\n",
       "      <td>0.035356</td>\n",
       "      <td>0.993750</td>\n",
       "      <td>0.993377</td>\n",
       "      <td>0.995575</td>\n",
       "      <td>0.994475</td>\n",
       "    </tr>\n",
       "    <tr>\n",
       "      <td>2</td>\n",
       "      <td>0.017200</td>\n",
       "      <td>0.030150</td>\n",
       "      <td>0.993750</td>\n",
       "      <td>0.993377</td>\n",
       "      <td>0.995575</td>\n",
       "      <td>0.994475</td>\n",
       "    </tr>\n",
       "    <tr>\n",
       "      <td>3</td>\n",
       "      <td>0.027700</td>\n",
       "      <td>0.024466</td>\n",
       "      <td>0.995000</td>\n",
       "      <td>0.991228</td>\n",
       "      <td>1.000000</td>\n",
       "      <td>0.995595</td>\n",
       "    </tr>\n",
       "  </tbody>\n",
       "</table><p>"
      ],
      "text/plain": [
       "<IPython.core.display.HTML object>"
      ]
     },
     "metadata": {},
     "output_type": "display_data"
    },
    {
     "data": {
      "text/plain": [
       "TrainOutput(global_step=600, training_loss=0.05964170917868614, metrics={'train_runtime': 4402.29, 'train_samples_per_second': 2.181, 'train_steps_per_second': 0.136, 'total_flos': 1271687027097600.0, 'train_loss': 0.05964170917868614, 'epoch': 3.0})"
      ]
     },
     "execution_count": 14,
     "metadata": {},
     "output_type": "execute_result"
    }
   ],
   "source": [
    "trainer.train()"
   ]
  },
  {
   "cell_type": "code",
   "execution_count": 15,
   "id": "71fa4c11",
   "metadata": {},
   "outputs": [
    {
     "data": {
      "text/html": [],
      "text/plain": [
       "<IPython.core.display.HTML object>"
      ]
     },
     "metadata": {},
     "output_type": "display_data"
    },
    {
     "name": "stdout",
     "output_type": "stream",
     "text": [
      "Eval results: {'eval_loss': 0.02446582540869713, 'eval_accuracy': 0.995, 'eval_precision': 0.9912280701754386, 'eval_recall': 1.0, 'eval_f1': 0.9955947136563876, 'eval_runtime': 308.5078, 'eval_samples_per_second': 2.593, 'eval_steps_per_second': 0.081, 'epoch': 3.0}\n"
     ]
    }
   ],
   "source": [
    "eval_results = trainer.evaluate()\n",
    "print(f\"Eval results: {eval_results}\")"
   ]
  },
  {
   "cell_type": "code",
   "execution_count": 16,
   "id": "58e80500",
   "metadata": {},
   "outputs": [
    {
     "name": "stdout",
     "output_type": "stream",
     "text": [
      "Evaluation finale :\n",
      "Accuracy  : 0.9950\n",
      "Precision : 0.9912\n",
      "Recall    : 1.0000\n",
      "F1 Score  : 0.9956\n"
     ]
    }
   ],
   "source": [
    "print(\"Evaluation finale :\")\n",
    "print(f\"Accuracy  : {eval_results['eval_accuracy']:.4f}\")\n",
    "print(f\"Precision : {eval_results['eval_precision']:.4f}\")\n",
    "print(f\"Recall    : {eval_results['eval_recall']:.4f}\")\n",
    "print(f\"F1 Score  : {eval_results['eval_f1']:.4f}\")"
   ]
  },
  {
   "cell_type": "code",
   "execution_count": 21,
   "id": "e4dd092b",
   "metadata": {},
   "outputs": [],
   "source": [
    "predictions=trainer.predict(test_dataset)"
   ]
  },
  {
   "cell_type": "code",
   "execution_count": 24,
   "id": "37cc97a0",
   "metadata": {},
   "outputs": [
    {
     "data": {
      "image/png": "[encoded data removed]",
      "text/plain": [
       "<Figure size 640x480 with 2 Axes>"
      ]
     },
     "metadata": {},
     "output_type": "display_data"
    },
    {
     "data": {
      "image/png": "[encoded data removed]",
      "text/plain": [
       "<Figure size 640x480 with 1 Axes>"
      ]
     },
     "metadata": {},
     "output_type": "display_data"
    },
    {
     "data": {
      "image/png": "[encoded data removed]",
      "text/plain": [
       "<Figure size 640x480 with 1 Axes>"
      ]
     },
     "metadata": {},
     "output_type": "display_data"
    },
    {
     "name": "stdout",
     "output_type": "stream",
     "text": [
      "Rapport de classification:\n",
      "\n",
      "              precision    recall  f1-score   support\n",
      "\n",
      "    non-spam       1.00      0.99      0.99       348\n",
      "        spam       0.99      1.00      1.00       452\n",
      "\n",
      "    accuracy                           0.99       800\n",
      "   macro avg       1.00      0.99      0.99       800\n",
      "weighted avg       1.00      0.99      0.99       800\n",
      "\n",
      "    Métrique    Valeur\n",
      "0   Accuracy  0.995000\n",
      "1  Precision  0.991228\n",
      "2     Recall  1.000000\n",
      "3   F1-score  0.995595\n"
     ]
    }
   ],
   "source": [
    "import matplotlib.pyplot as plt\n",
    "import seaborn as sns\n",
    "from sklearn.metrics import (\n",
    "    confusion_matrix,\n",
    "    ConfusionMatrixDisplay,\n",
    "    precision_recall_curve,\n",
    "    roc_curve,\n",
    "    auc,\n",
    "    classification_report,\n",
    ")\n",
    "# logits, labels, et scores de probabilités\n",
    "logits = predictions.predictions\n",
    "labels = predictions.label_ids\n",
    "probabilities = torch.softmax(torch.tensor(logits), dim=1)[:, 1].numpy()  # probabilité de la classe positive\n",
    "\n",
    "# Prédictions binaires en choisissant l'indice max des logits\n",
    "preds = np.argmax(logits, axis=1)\n",
    "\n",
    "# --- Matrice de confusion\n",
    "cm = confusion_matrix(labels, preds)\n",
    "disp = ConfusionMatrixDisplay(confusion_matrix=cm, display_labels=['non-spam', 'spam'])\n",
    "disp.plot(cmap=plt.cm.Blues)\n",
    "plt.title(\"Matrice de confusion\")\n",
    "plt.show()\n",
    "\n",
    "# --- Courbe Precision-Recall\n",
    "precision, recall, _ = precision_recall_curve(labels, probabilities)\n",
    "plt.plot(recall, precision, marker='.')\n",
    "plt.xlabel('Recall')\n",
    "plt.ylabel('Precision')\n",
    "plt.title('Courbe Precision-Recall')\n",
    "plt.grid(True)\n",
    "plt.show()\n",
    "\n",
    "# --- Courbe ROC\n",
    "fpr, tpr, _ = roc_curve(labels, probabilities)\n",
    "roc_auc = auc(fpr, tpr)\n",
    "plt.plot(fpr, tpr, color='darkorange', lw=2, label=f'ROC curve (AUC = {roc_auc:.2f})')\n",
    "plt.plot([0, 1], [0, 1], color='navy', lw=2, linestyle='--')\n",
    "plt.xlim([0.0, 1.0])\n",
    "plt.ylim([0.0, 1.05])\n",
    "plt.xlabel('Taux de faux positifs')\n",
    "plt.ylabel('Taux de vrais positifs')\n",
    "plt.title('Courbe ROC')\n",
    "plt.legend(loc=\"lower right\")\n",
    "plt.grid(True)\n",
    "plt.show()\n",
    "\n",
    "# --- Rapport de classification détaillé\n",
    "print(\"Rapport de classification:\\n\")\n",
    "print(classification_report(labels, preds, target_names=['non-spam', 'spam']))\n",
    "\n",
    "# --- Tableaux récapitulatifs des métriques calculées\n",
    "acc = accuracy_score(labels, preds)\n",
    "prec = precision_score(labels, preds)\n",
    "rec = recall_score(labels, preds)\n",
    "f1 = f1_score(labels, preds)\n",
    "\n",
    "import pandas as pd\n",
    "\n",
    "metrics_df = pd.DataFrame({\n",
    "    \"Métrique\": [\"Accuracy\", \"Precision\", \"Recall\", \"F1-score\"],\n",
    "    \"Valeur\": [acc, prec, rec, f1]\n",
    "})\n",
    "\n",
    "print(metrics_df)"
   ]
  },
  {
   "cell_type": "markdown",
   "id": "c44cda40",
   "metadata": {},
   "source": [
    "# Conclusion\n",
    "\n",
    "This notebook demonstrated supervised fine-tuning of a transformer for spam message detection. \n",
    "With robust transfer learning and careful dataset design, models like DistilBERT reach high accuracy on binary text classification tasks.\n",
    "For future work, experiment with different model checkpoints, hyperparameters, or additional data augmentation.\n"
   ]
  },
  {
   "cell_type": "code",
   "execution_count": 25,
   "id": "054a8d28",
   "metadata": {},
   "outputs": [
    {
     "data": {
      "text/plain": [
       "('./saved_model\\\\tokenizer_config.json',\n",
       " './saved_model\\\\special_tokens_map.json',\n",
       " './saved_model\\\\vocab.txt',\n",
       " './saved_model\\\\added_tokens.json')"
      ]
     },
     "execution_count": 25,
     "metadata": {},
     "output_type": "execute_result"
    }
   ],
   "source": [
    "# Chemin où enregistrer le modèle\n",
    "save_directory = \"./saved_model\"\n",
    "\n",
    "# Sauvegarde du modèle et tokenizer\n",
    "model.save_pretrained(save_directory)\n",
    "tokenizer.save_pretrained(save_directory)"
   ]
  }
 ],
 "metadata": {
  "kernelspec": {
   "display_name": "Python 3",
   "language": "python",
   "name": "python3"
  },
  "language_info": {
   "codemirror_mode": {
    "name": "ipython",
    "version": 3
   },
   "file_extension": ".py",
   "mimetype": "text/x-python",
   "name": "python",
   "nbconvert_exporter": "python",
   "pygments_lexer": "ipython3",
   "version": "3.12.10"
  }
 },
 "nbformat": 4,
 "nbformat_minor": 5
}
