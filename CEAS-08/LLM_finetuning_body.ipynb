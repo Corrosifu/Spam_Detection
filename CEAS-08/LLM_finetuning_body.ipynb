{
 "cells": [
  {
   "cell_type": "markdown",
   "id": "32fd8e74",
   "metadata": {},
   "source": [
    "# Fine-Tuning a Large Language Model (LLM) for Spam Detection\n",
    "\n",
    "This notebook demonstrates how to fine-tune a transformer-based large language model for the binary classification of spam in text messages. \n",
    "It covers loading and preparing data, encoding with Hugging Face Transformers, dataset setup, model training, and evaluation.\n"
   ]
  },
  {
   "cell_type": "code",
   "execution_count": null,
   "id": "444eec1c",
   "metadata": {},
   "outputs": [
    {
     "name": "stderr",
     "output_type": "stream",
     "text": [
      "C:\\Users\\user\\AppData\\Local\\Packages\\PythonSoftwareFoundation.Python.3.12_qbz5n2kfra8p0\\LocalCache\\local-packages\\Python312\\site-packages\\tqdm\\auto.py:21: TqdmWarning: IProgress not found. Please update jupyter and ipywidgets. See https://ipywidgets.readthedocs.io/en/stable/user_install.html\n",
      "  from .autonotebook import tqdm as notebook_tqdm\n"
     ]
    },
    {
     "name": "stdout",
     "output_type": "stream",
     "text": [
      "WARNING:tensorflow:From C:\\Users\\user\\AppData\\Local\\Packages\\PythonSoftwareFoundation.Python.3.12_qbz5n2kfra8p0\\LocalCache\\local-packages\\Python312\\site-packages\\tf_keras\\src\\losses.py:2976: The name tf.losses.sparse_softmax_cross_entropy is deprecated. Please use tf.compat.v1.losses.sparse_softmax_cross_entropy instead.\n",
      "\n"
     ]
    }
   ],
   "source": [
    "import pandas as pd\n",
    "import torch\n",
    "import numpy as np\n",
    "from transformers import  Trainer, TrainingArguments,DistilBertTokenizer,DistilBertForSequenceClassification\n",
    "from sklearn.model_selection import train_test_split\n",
    "from sklearn.metrics import accuracy_score, precision_score, recall_score, f1_score, confusion_matrix,precision_recall_fscore_support\n"
   ]
  },
  {
   "cell_type": "code",
   "execution_count": null,
   "id": "a1a74ec1",
   "metadata": {},
   "outputs": [],
   "source": [
    "# Load and clean the preprocessed spam dataset from CSV\n",
    "df = pd.read_csv('/Users/user/Documents/Spam_Detection/Data/new_data_clear.csv')"
   ]
  },
  {
   "cell_type": "markdown",
   "id": "90a1c4f7",
   "metadata": {},
   "source": [
    "## Dataset Preparation\n",
    "This dataset consists of textual messages labeled as spam (1) or not spam (0). All text preprocessing steps are assumed to be done prior to loading.\n"
   ]
  },
  {
   "cell_type": "code",
   "execution_count": null,
   "id": "6559df38",
   "metadata": {},
   "outputs": [
    {
     "name": "stderr",
     "output_type": "stream",
     "text": [
      "C:\\Users\\user\\AppData\\Local\\Temp\\ipykernel_27272\\775452318.py:5: DeprecationWarning: DataFrameGroupBy.apply operated on the grouping columns. This behavior is deprecated, and in a future version of pandas the grouping columns will be excluded from the operation. Either pass `include_groups=False` to exclude the groupings or explicitly select the grouping columns after groupby to silence this warning.\n",
      "  .apply(lambda x: x.sample(int(np.rint(N*len(x)/len(df)))))\n"
     ]
    }
   ],
   "source": [
    "# Stratified random sampling to maintain class distribution proportions\n",
    "N = 4000  # Total number of desired samples\n",
    "\n",
    "Stratified_Sample = (\n",
    "    df.groupby('label', group_keys=False)\n",
    "    .apply(lambda x: x.sample(int(np.rint(N * len(x) / len(df)))))\n",
    "    .sample(frac=1)  # Shuffle the rows after sampling\n",
    "    .reset_index(drop=True)\n",
    ")"
   ]
  },
  {
   "cell_type": "markdown",
   "id": "1c6c96e4",
   "metadata": {},
   "source": [
    "## Stratified Sampling\n",
    "We use stratified sampling to ensure the label distribution is preserved in the experiment subset. This prevents the model from overfitting to a majority class.\n"
   ]
  },
  {
   "cell_type": "code",
   "execution_count": null,
   "id": "f02169c8",
   "metadata": {},
   "outputs": [
    {
     "name": "stdout",
     "output_type": "stream",
     "text": [
      "label\n",
      "1    0.564457\n",
      "0    0.435543\n",
      "Name: proportion, dtype: float64\n",
      "label\n",
      "1    0.5645\n",
      "0    0.4355\n",
      "Name: proportion, dtype: float64\n"
     ]
    }
   ],
   "source": [
    "# Verify class proportions before and after sampling to ensure stratification\n",
    "print(df['label'].value_counts(normalize=True))\n",
    "print(Stratified_Sample['label'].value_counts(normalize=True))"
   ]
  },
  {
   "cell_type": "code",
   "execution_count": null,
   "id": "65935dd4",
   "metadata": {},
   "outputs": [],
   "source": [
    "# Use the stratified sample as the main dataset for subsequent steps\n",
    "df = Stratified_Sample"
   ]
  },
  {
   "cell_type": "code",
   "execution_count": null,
   "id": "a013366c",
   "metadata": {},
   "outputs": [],
   "source": [
    "# Extract message texts and labels for model input\n",
    "texts = df['body'].tolist()  # The primary text field\n",
    "labels = df['label'].tolist()  # Corresponding binary labels\n"
   ]
  },
  {
   "cell_type": "code",
   "execution_count": null,
   "id": "5d36b6d4",
   "metadata": {},
   "outputs": [],
   "source": [
    "# Split data into training and test sets, 80/20\n",
    "X_train, X_test, y_train, y_test = train_test_split(texts, labels, test_size=0.2, random_state=0)\n",
    "\n",
    "# Initialize tokenizer from Hugging Face pre-trained checkpoint\n",
    "tokenizer = DistilBertTokenizer.from_pretrained('mariagrandury/distilbert-base-uncased-finetuned-sms-spam-detection')\n",
    "\n",
    "# Tokenize the texts for transformer input (with padding/truncation as needed)\n",
    "train_encodings = tokenizer(X_train, truncation=True, padding=True)\n",
    "test_encodings = tokenizer(X_test, truncation=True, padding=True)\n"
   ]
  },
  {
   "cell_type": "markdown",
   "id": "4e8d42cd",
   "metadata": {},
   "source": [
    "## Encoding with Transformers\n",
    "Tokenization transforms raw text into numerical tokens suitable for transformer models, handling padding and truncation automatically.\n"
   ]
  },
  {
   "cell_type": "code",
   "execution_count": null,
   "id": "8cefd1dc",
   "metadata": {},
   "outputs": [],
   "source": [
    "# Define a custom PyTorch Dataset for tokenized text and label pairs\n",
    "class SpamDataset(torch.utils.data.Dataset):\n",
    "    def __init__(self, encodings, labels):\n",
    "        self.encodings = encodings\n",
    "        self.labels = labels\n",
    "    def __getitem__(self, idx):\n",
    "        item = {key: torch.tensor(val[idx]) for key, val in self.encodings.items()}\n",
    "        item['labels'] = torch.tensor(self.labels[idx])\n",
    "        return item\n",
    "    def __len__(self):\n",
    "        return len(self.labels)\n",
    "\n",
    "# Instantiate datasets for training and testing\n",
    "train_dataset = SpamDataset(train_encodings, y_train)\n",
    "test_dataset = SpamDataset(test_encodings, y_test)\n"
   ]
  },
  {
   "cell_type": "markdown",
   "id": "b68ac496",
   "metadata": {},
   "source": [
    "We wrap our tokenized data as a PyTorch Dataset to make it compatible with the Hugging Face Trainer API."
   ]
  },
  {
   "cell_type": "code",
   "execution_count": null,
   "id": "ff42c5d0",
   "metadata": {},
   "outputs": [],
   "source": [
    "# Load a DistilBERT model pre-trained and fine-tuned for SMS spam detection\n",
    "model = DistilBertForSequenceClassification.from_pretrained('mariagrandury/distilbert-base-uncased-finetuned-sms-spam-detection', num_labels=2)"
   ]
  },
  {
   "cell_type": "markdown",
   "id": "5cf3a0d3",
   "metadata": {},
   "source": [
    "Here, we use a model checkpoint already adapted to SMS spam, allowing either further fine-tuning or immediate evaluation."
   ]
  },
  {
   "cell_type": "code",
   "execution_count": null,
   "id": "5685fff5",
   "metadata": {},
   "outputs": [],
   "source": [
    "# Helper function to compute key evaluation metrics for binary classification\n",
    "def compute_metrics(eval_pred):\n",
    "    logits, labels = eval_pred\n",
    "    predictions = torch.argmax(torch.tensor(logits), dim=-1)\n",
    "    precision, recall, f1, _ = precision_recall_fscore_support(labels, predictions, average='binary')\n",
    "    acc = accuracy_score(labels, predictions)\n",
    "    return {'accuracy': acc, 'precision': precision, 'recall': recall, 'f1': f1}"
   ]
  },
  {
   "cell_type": "markdown",
   "id": "18db1add",
   "metadata": {},
   "source": [
    "The Trainer API makes use of compute_metrics for evaluation after each epoch, using accuracy, precision, recall and F1-score.\n"
   ]
  },
  {
   "cell_type": "code",
   "execution_count": null,
   "id": "cfd71de2",
   "metadata": {},
   "outputs": [],
   "source": [
    "# Set up Hugging Face TrainingArguments for the Trainer API\n",
    "training_args = TrainingArguments(\n",
    "    output_dir='./results',            # Directory to save model artifacts\n",
    "    num_train_epochs=3,                # Number of training epochs\n",
    "    per_device_train_batch_size=16,    # Batch size during training\n",
    "    per_device_eval_batch_size=32,     # Batch size during evaluation\n",
    "    eval_strategy='epoch',             # Evaluation strategy per epoch\n",
    "    save_strategy='epoch',             # Save checkpoints per epoch\n",
    "    logging_dir='./logs',              # Directory for logs\n",
    "    logging_steps=50,                  # Log every 50 steps\n",
    "    load_best_model_at_end=True,       # Keep the best model after training\n",
    "    metric_for_best_model='f1',        # Metric to select the best model checkpoint\n",
    "    greater_is_better=True,            # Is higher better for the best metric\n",
    "    seed=42                            # Reproducibility\n",
    ")"
   ]
  },
  {
   "cell_type": "markdown",
   "id": "efdb84d0",
   "metadata": {},
   "source": [
    "These arguments control the model saving, logging, and evaluation strategy for our training loop.\n"
   ]
  },
  {
   "cell_type": "code",
   "execution_count": null,
   "id": "6d7a3c78",
   "metadata": {},
   "outputs": [],
   "source": [
    "# Initialize the Hugging Face Trainer\n",
    "trainer = Trainer(\n",
    "    model=model,\n",
    "    args=training_args,\n",
    "    train_dataset=train_dataset,\n",
    "    eval_dataset=test_dataset,\n",
    "    compute_metrics=compute_metrics\n",
    ")\n"
   ]
  },
  {
   "cell_type": "markdown",
   "id": "e1626bfe",
   "metadata": {},
   "source": [
    "Trainer abstracts the training loop, handles evaluation, logging, and model checkpointing automatically.\n"
   ]
  },
  {
   "cell_type": "code",
   "execution_count": 13,
   "id": "d9a3e526",
   "metadata": {},
   "outputs": [
    {
     "data": {
      "text/html": [
       "\n",
       "    <div>\n",
       "      \n",
       "      <progress value='600' max='600' style='width:300px; height:20px; vertical-align: middle;'></progress>\n",
       "      [600/600 49:34, Epoch 3/3]\n",
       "    </div>\n",
       "    <table border=\"1\" class=\"dataframe\">\n",
       "  <thead>\n",
       " <tr style=\"text-align: left;\">\n",
       "      <th>Epoch</th>\n",
       "      <th>Training Loss</th>\n",
       "      <th>Validation Loss</th>\n",
       "      <th>Accuracy</th>\n",
       "      <th>Precision</th>\n",
       "      <th>Recall</th>\n",
       "      <th>F1</th>\n",
       "    </tr>\n",
       "  </thead>\n",
       "  <tbody>\n",
       "    <tr>\n",
       "      <td>1</td>\n",
       "      <td>0.058300</td>\n",
       "      <td>0.039452</td>\n",
       "      <td>0.990000</td>\n",
       "      <td>0.993435</td>\n",
       "      <td>0.989107</td>\n",
       "      <td>0.991266</td>\n",
       "    </tr>\n",
       "    <tr>\n",
       "      <td>2</td>\n",
       "      <td>0.028600</td>\n",
       "      <td>0.028235</td>\n",
       "      <td>0.993750</td>\n",
       "      <td>0.995633</td>\n",
       "      <td>0.993464</td>\n",
       "      <td>0.994547</td>\n",
       "    </tr>\n",
       "    <tr>\n",
       "      <td>3</td>\n",
       "      <td>0.019900</td>\n",
       "      <td>0.025892</td>\n",
       "      <td>0.992500</td>\n",
       "      <td>0.993464</td>\n",
       "      <td>0.993464</td>\n",
       "      <td>0.993464</td>\n",
       "    </tr>\n",
       "  </tbody>\n",
       "</table><p>"
      ],
      "text/plain": [
       "<IPython.core.display.HTML object>"
      ]
     },
     "metadata": {},
     "output_type": "display_data"
    },
    {
     "data": {
      "text/plain": [
       "TrainOutput(global_step=600, training_loss=0.054196737880508106, metrics={'train_runtime': 2976.5932, 'train_samples_per_second': 3.225, 'train_steps_per_second': 0.202, 'total_flos': 1271687027097600.0, 'train_loss': 0.054196737880508106, 'epoch': 3.0})"
      ]
     },
     "execution_count": 13,
     "metadata": {},
     "output_type": "execute_result"
    }
   ],
   "source": [
    "trainer.train()"
   ]
  },
  {
   "cell_type": "code",
   "execution_count": 14,
   "id": "71fa4c11",
   "metadata": {},
   "outputs": [
    {
     "data": {
      "text/html": [],
      "text/plain": [
       "<IPython.core.display.HTML object>"
      ]
     },
     "metadata": {},
     "output_type": "display_data"
    },
    {
     "name": "stdout",
     "output_type": "stream",
     "text": [
      "Eval results: {'eval_loss': 0.028234517201781273, 'eval_accuracy': 0.99375, 'eval_precision': 0.9956331877729258, 'eval_recall': 0.9934640522875817, 'eval_f1': 0.9945474372955289, 'eval_runtime': 194.4977, 'eval_samples_per_second': 4.113, 'eval_steps_per_second': 0.129, 'epoch': 3.0}\n"
     ]
    }
   ],
   "source": [
    "eval_results = trainer.evaluate()\n",
    "print(f\"Eval results: {eval_results}\")"
   ]
  },
  {
   "cell_type": "code",
   "execution_count": 15,
   "id": "58e80500",
   "metadata": {},
   "outputs": [
    {
     "name": "stdout",
     "output_type": "stream",
     "text": [
      "Evaluation finale :\n",
      "Accuracy  : 0.9938\n",
      "Precision : 0.9956\n",
      "Recall    : 0.9935\n",
      "F1 Score  : 0.9945\n"
     ]
    }
   ],
   "source": [
    "print(\"Evaluation finale :\")\n",
    "print(f\"Accuracy  : {eval_results['eval_accuracy']:.4f}\")\n",
    "print(f\"Precision : {eval_results['eval_precision']:.4f}\")\n",
    "print(f\"Recall    : {eval_results['eval_recall']:.4f}\")\n",
    "print(f\"F1 Score  : {eval_results['eval_f1']:.4f}\")"
   ]
  },
  {
   "cell_type": "code",
   "execution_count": 16,
   "id": "43cf7ec5",
   "metadata": {},
   "outputs": [],
   "source": [
    "predictions=trainer.predict(test_dataset)"
   ]
  },
  {
   "cell_type": "code",
   "execution_count": 17,
   "id": "3d57b598",
   "metadata": {},
   "outputs": [
    {
     "data": {
      "image/png": "[encoded data removed]",
      "text/plain": [
       "<Figure size 640x480 with 2 Axes>"
      ]
     },
     "metadata": {},
     "output_type": "display_data"
    },
    {
     "data": {
      "image/png": "[encoded data removed]",
      "text/plain": [
       "<Figure size 640x480 with 1 Axes>"
      ]
     },
     "metadata": {},
     "output_type": "display_data"
    },
    {
     "data": {
      "image/png": "[encoded data removed]",
      "text/plain": [
       "<Figure size 640x480 with 1 Axes>"
      ]
     },
     "metadata": {},
     "output_type": "display_data"
    },
    {
     "name": "stdout",
     "output_type": "stream",
     "text": [
      "Rapport de classification:\n",
      "\n",
      "              precision    recall  f1-score   support\n",
      "\n",
      "    non-spam       0.99      0.99      0.99       341\n",
      "        spam       1.00      0.99      0.99       459\n",
      "\n",
      "    accuracy                           0.99       800\n",
      "   macro avg       0.99      0.99      0.99       800\n",
      "weighted avg       0.99      0.99      0.99       800\n",
      "\n",
      "    Métrique    Valeur\n",
      "0   Accuracy  0.993750\n",
      "1  Precision  0.995633\n",
      "2     Recall  0.993464\n",
      "3   F1-score  0.994547\n"
     ]
    }
   ],
   "source": [
    "import matplotlib.pyplot as plt\n",
    "import seaborn as sns\n",
    "from sklearn.metrics import (\n",
    "    confusion_matrix,\n",
    "    ConfusionMatrixDisplay,\n",
    "    precision_recall_curve,\n",
    "    roc_curve,\n",
    "    auc,\n",
    "    classification_report,\n",
    ")\n",
    "# logits, labels, et scores de probabilités\n",
    "logits = predictions.predictions\n",
    "labels = predictions.label_ids\n",
    "probabilities = torch.softmax(torch.tensor(logits), dim=1)[:, 1].numpy()  # probabilité de la classe positive\n",
    "\n",
    "# Prédictions binaires en choisissant l'indice max des logits\n",
    "preds = np.argmax(logits, axis=1)\n",
    "\n",
    "# --- Matrice de confusion\n",
    "cm = confusion_matrix(labels, preds)\n",
    "disp = ConfusionMatrixDisplay(confusion_matrix=cm, display_labels=['non-spam', 'spam'])\n",
    "disp.plot(cmap=plt.cm.Blues)\n",
    "plt.title(\"Matrice de confusion\")\n",
    "plt.show()\n",
    "\n",
    "# --- Courbe Precision-Recall\n",
    "precision, recall, _ = precision_recall_curve(labels, probabilities)\n",
    "plt.plot(recall, precision, marker='.')\n",
    "plt.xlabel('Recall')\n",
    "plt.ylabel('Precision')\n",
    "plt.title('Courbe Precision-Recall')\n",
    "plt.grid(True)\n",
    "plt.show()\n",
    "\n",
    "# --- Courbe ROC\n",
    "fpr, tpr, _ = roc_curve(labels, probabilities)\n",
    "roc_auc = auc(fpr, tpr)\n",
    "plt.plot(fpr, tpr, color='darkorange', lw=2, label=f'ROC curve (AUC = {roc_auc:.2f})')\n",
    "plt.plot([0, 1], [0, 1], color='navy', lw=2, linestyle='--')\n",
    "plt.xlim([0.0, 1.0])\n",
    "plt.ylim([0.0, 1.05])\n",
    "plt.xlabel('Taux de faux positifs')\n",
    "plt.ylabel('Taux de vrais positifs')\n",
    "plt.title('Courbe ROC')\n",
    "plt.legend(loc=\"lower right\")\n",
    "plt.grid(True)\n",
    "plt.show()\n",
    "\n",
    "# --- Rapport de classification détaillé\n",
    "print(\"Rapport de classification:\\n\")\n",
    "print(classification_report(labels, preds, target_names=['non-spam', 'spam']))\n",
    "\n",
    "# --- Tableaux récapitulatifs des métriques calculées\n",
    "acc = accuracy_score(labels, preds)\n",
    "prec = precision_score(labels, preds)\n",
    "rec = recall_score(labels, preds)\n",
    "f1 = f1_score(labels, preds)\n",
    "\n",
    "import pandas as pd\n",
    "\n",
    "metrics_df = pd.DataFrame({\n",
    "    \"Métrique\": [\"Accuracy\", \"Precision\", \"Recall\", \"F1-score\"],\n",
    "    \"Valeur\": [acc, prec, rec, f1]\n",
    "})\n",
    "\n",
    "print(metrics_df)"
   ]
  },
  {
   "cell_type": "markdown",
   "id": "df08a3ef",
   "metadata": {},
   "source": [
    "# Conclusion\n",
    "\n",
    "This notebook demonstrated supervised fine-tuning of a transformer for spam message detection. \n",
    "With robust transfer learning and careful dataset design, models like DistilBERT reach high accuracy on binary text classification tasks.\n",
    "For future work, experiment with different model checkpoints, hyperparameters, or additional data augmentation.\n"
   ]
  },
  {
   "cell_type": "code",
   "execution_count": 18,
   "id": "1201f4f0",
   "metadata": {},
   "outputs": [
    {
     "data": {
      "text/plain": [
       "('./saved_model_textonly\\\\tokenizer_config.json',\n",
       " './saved_model_textonly\\\\special_tokens_map.json',\n",
       " './saved_model_textonly\\\\vocab.txt',\n",
       " './saved_model_textonly\\\\added_tokens.json')"
      ]
     },
     "execution_count": 18,
     "metadata": {},
     "output_type": "execute_result"
    }
   ],
   "source": [
    "# Chemin où enregistrer le modèle\n",
    "save_directory = \"./saved_model_textonly\"\n",
    "\n",
    "# Sauvegarde du modèle et tokenizer\n",
    "model.save_pretrained(save_directory)\n",
    "tokenizer.save_pretrained(save_directory)"
   ]
  }
 ],
 "metadata": {
  "kernelspec": {
   "display_name": "Python 3",
   "language": "python",
   "name": "python3"
  },
  "language_info": {
   "codemirror_mode": {
    "name": "ipython",
    "version": 3
   },
   "file_extension": ".py",
   "mimetype": "text/x-python",
   "name": "python",
   "nbconvert_exporter": "python",
   "pygments_lexer": "ipython3",
   "version": "3.12.10"
  }
 },
 "nbformat": 4,
 "nbformat_minor": 5
}
